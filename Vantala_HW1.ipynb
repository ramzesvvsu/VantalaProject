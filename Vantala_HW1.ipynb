{
 "cells": [
  {
   "cell_type": "code",
   "execution_count": 1,
   "metadata": {},
   "outputs": [],
   "source": [
    "import pandas as pd\n",
    "from CommonStatistic import print_statistic"
   ]
  },
  {
   "cell_type": "markdown",
   "metadata": {},
   "source": [
    "# Сбербанк статистика"
   ]
  },
  {
   "cell_type": "code",
   "execution_count": null,
   "metadata": {},
   "outputs": [],
   "source": [
    "print_statistic('SBER_100101_200101.txt', pd.DataFrame.from_dict({'Date': ['13.06.2019',\n",
    "                                            '26.06.2018',\n",
    "                                            '14.06.2017',\n",
    "                                            '14.06.2016',\n",
    "                                            '15.06.2015',\n",
    "                                            '17.06.2014',\n",
    "                                            '11.04.2013',\n",
    "                                            '12.04.2012',\n",
    "                                            '15.04.2011',\n",
    "                                            '16.04.2010'], 'Val': [16.00,\n",
    "                                                                   12.00,\n",
    "                                                                   6.00,\n",
    "                                                                   1.97,\n",
    "                                                                   0.45,\n",
    "                                                                   3.20,\n",
    "                                                                   3.20,\n",
    "                                                                   2.59,\n",
    "                                                                   1.15,\n",
    "                                                                   0.45\n",
    "                                                                   ]}))"
   ]
  },
  {
   "cell_type": "markdown",
   "metadata": {},
   "source": [
    "# Лукойл статистика"
   ]
  },
  {
   "cell_type": "code",
   "execution_count": null,
   "metadata": {},
   "outputs": [],
   "source": [
    "print_statistic('LKOH_100101_200101.txt', pd.DataFrame.from_dict({'Date': ['09.06.2020',\n",
    "                                                                           '20.12.2019',\n",
    "                                                                           '09.06.2019',\n",
    "                                                                           '21.12.2018',\n",
    "                                                                           '11.06.2018',\n",
    "                                                                           '22.12.2017',\n",
    "                                                                           '10.06.2017',\n",
    "                                                                           '23.12.2016',\n",
    "                                                                           '12.06.2016',\n",
    "                                                                           '24.12.2015',\n",
    "                                                                           '14.06.2015',\n",
    "                                                                           '26.12.2014',\n",
    "                                                                           '15.06.2014',\n",
    "                                                                           '15.08.2013',\n",
    "                                                                           '13.05.2013',\n",
    "                                                                           '12.11.2012',\n",
    "                                                                           '11.05.2012',\n",
    "                                                                           '6.05.2011',\n",
    "                                                                           '7.05.2010'], 'Val': [170.00,\n",
    "                                                                                                 192.00,\n",
    "                                                                                                 155.00,\n",
    "                                                                                                 95.00,\n",
    "                                                                                                 130.00,\n",
    "                                                                                                 85.00,\n",
    "                                                                                                 120.00,\n",
    "                                                                                                 75.00,\n",
    "                                                                                                 112.00,\n",
    "                                                                                                 65.00,\n",
    "                                                                                                 94.00,\n",
    "                                                                                                 60.00,\n",
    "                                                                                                 60.00,\n",
    "                                                                                                 50.00,\n",
    "                                                                                                 50.00,\n",
    "                                                                                                 40.00,\n",
    "                                                                                                 75.00,\n",
    "                                                                                                 59.00,\n",
    "                                                                                                 52.00]}))\n"
   ]
  },
  {
   "cell_type": "code",
   "execution_count": null,
   "metadata": {},
   "outputs": [],
   "source": []
  },
  {
   "cell_type": "code",
   "execution_count": null,
   "metadata": {},
   "outputs": [],
   "source": []
  }
 ],
 "metadata": {
  "kernelspec": {
   "display_name": "Python 3",
   "language": "python",
   "name": "python3"
  },
  "language_info": {
   "codemirror_mode": {
    "name": "ipython",
    "version": 3
   },
   "file_extension": ".py",
   "mimetype": "text/x-python",
   "name": "python",
   "nbconvert_exporter": "python",
   "pygments_lexer": "ipython3",
   "version": "3.7.7"
  }
 },
 "nbformat": 4,
 "nbformat_minor": 4
}
